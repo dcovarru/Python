{
  "nbformat": 4,
  "nbformat_minor": 0,
  "metadata": {
    "colab": {
      "name": "JupyterColabTemplate.ipynb",
      "provenance": [],
      "authorship_tag": "ABX9TyO9nmpG4XcHQFZltNg9KcjD",
      "include_colab_link": true
    },
    "kernelspec": {
      "name": "python3",
      "display_name": "Python 3"
    }
  },
  "cells": [
    {
      "cell_type": "markdown",
      "metadata": {
        "id": "view-in-github",
        "colab_type": "text"
      },
      "source": [
        "<a href=\"https://colab.research.google.com/github/dcovarru/Python/blob/master/JupyterColabTemplate.ipynb\" target=\"_parent\"><img src=\"https://colab.research.google.com/assets/colab-badge.svg\" alt=\"Open In Colab\"/></a>"
      ]
    },
    {
      "cell_type": "code",
      "metadata": {
        "id": "RDKZ4k9pQyf0",
        "colab_type": "code",
        "colab": {}
      },
      "source": [
        "#####################\n",
        "# General Template\n",
        "# Author:\n",
        "# Date:\n",
        "# Version:\n",
        "# Description:\n",
        "#####################"
      ],
      "execution_count": 0,
      "outputs": []
    },
    {
      "cell_type": "code",
      "metadata": {
        "id": "llKP1jA8Q2QV",
        "colab_type": "code",
        "colab": {}
      },
      "source": [
        "#####################\n",
        "# Compute/Extrapolate/Transform\n",
        "#####################"
      ],
      "execution_count": 0,
      "outputs": []
    },
    {
      "cell_type": "code",
      "metadata": {
        "id": "g5-rLY7WQ3Bn",
        "colab_type": "code",
        "colab": {}
      },
      "source": [
        "#####################\n",
        "# Storage\n",
        "#####################"
      ],
      "execution_count": 0,
      "outputs": []
    },
    {
      "cell_type": "code",
      "metadata": {
        "id": "HDoTEzUlQ3Vf",
        "colab_type": "code",
        "colab": {}
      },
      "source": [
        "#####################\n",
        "# Network\n",
        "#####################"
      ],
      "execution_count": 0,
      "outputs": []
    },
    {
      "cell_type": "code",
      "metadata": {
        "id": "uvvlkLdlQ3vu",
        "colab_type": "code",
        "colab": {}
      },
      "source": [
        "#####################\n",
        "# Security\n",
        "#####################"
      ],
      "execution_count": 0,
      "outputs": []
    }
  ]
}