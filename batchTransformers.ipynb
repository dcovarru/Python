{
 "cells": [
  {
   "cell_type": "markdown",
   "metadata": {},
   "source": [
    "---\n",
    "\n",
    "## Description: Jupyter notebook to parse scanned .pdf documents\n",
    "#### Author: Daniel Covarrubias\n",
    "#### Date: 10OCT19\n",
    "---\n"
   ]
  },
  {
   "cell_type": "code",
   "execution_count": null,
   "metadata": {},
   "outputs": [],
   "source": [
    "#########################################\n",
    "# Import necessary modules\n",
    "#########################################\n",
    "\n",
    "import pandas as pd\n",
    "import numpy as np\n",
    "import statsmodels\n",
    "import torch\n",
    "import os\n",
    "import PyPDF2\n",
    "import cv2\n",
    "import imutils\n",
    "import pytesseract\n",
    "import sys\n",
    "from PIL import Image\n",
    "import platform\n",
    "from pdf2image import convert_from_path\n",
    "import matplotlib.pyplot as plt \n",
    "%matplotlib inline\n",
    "import matplotlib.pyplot as plt\n",
    "import seaborn; seaborn.set() \n",
    "import pyodbc\n",
    "# import tabula\n",
    "## print(platform.architecture())\n",
    "\n",
    "import pyocr\n",
    "import pyocr.builders\n",
    "# import wand\n",
    "from wand.image import Image as Img\n",
    "from wand.display import display\n",
    "# import magickwand\n",
    "# import textract"
   ]
  },
  {
   "cell_type": "code",
   "execution_count": 10,
   "metadata": {},
   "outputs": [],
   "source": [
    "# s = os.environ[\"PATH\"].split(';')\n",
    "# for item in s:\n",
    "#     print(item)\n",
    "\n",
    "# pages = convert_from_path('//ushtfs01/data/Public/LPB_Projects/PURD (JUNO)/05 MSAT/11 SD_ER_GMP_data/PPQ/PPQ_1/Production/USHT-374 19H867007a.pdf', 500)\n",
    "\n",
    "# with Img(filename='M://sandbox/Jupyter/batchRecords/input/USHT-374 19H867007a.pdf', resolution=300) as img:\n",
    "#    img.compression_quality = 99\n",
    "#    img.save(filename='image_name.jpg')"
   ]
  },
  {
   "cell_type": "code",
   "execution_count": 18,
   "metadata": {
    "scrolled": false
   },
   "outputs": [],
   "source": [
    "# # help('modules')\n",
    "# # os.getcwd()\n",
    "\n",
    "# # tools = pyocr.get_available_tools()\n",
    "# # print(tools)\n",
    "# # rawText = pytesseract.image_to_string(Image.open('M://sandbox/Jupyter/batchRecords/input/br_jpeg.jpeg'))\n",
    "\n",
    "# #################################################################\n",
    "# # that I used R to convert the .pdf file to a .jpeg file \n",
    "# #################################################################\n",
    "\n",
    "# myImg = cv2.imread('M://sandbox/Jupyter/batchRecords/input/br_jpeg.jpeg', cv2.IMREAD_GRAYSCALE)\n",
    "# cv2.imshow('image', myImg)\n",
    "# cv2.waitKey(0)\n",
    "# cv2.destroyAllWindows()"
   ]
  },
  {
   "cell_type": "code",
   "execution_count": 11,
   "metadata": {},
   "outputs": [],
   "source": [
    "# with Img(filename='//ushtfs01/data/Public/LPB_Projects/PURD (JUNO)/05 MSAT/11 SD_ER_GMP_data/PPQ/PPQ_1/Production/USHT-374 19H867007a.pdf', resolution=300) as img:\n",
    "#     img.compression_quality = 99\n",
    "#     img.save(filename='image_name.jpg')"
   ]
  },
  {
   "cell_type": "code",
   "execution_count": 19,
   "metadata": {},
   "outputs": [
    {
     "name": "stdout",
     "output_type": "stream",
     "text": [
      "\n"
     ]
    }
   ],
   "source": [
    "# #########################################\n",
    "# # Import pdf file\n",
    "# #########################################\n",
    "\n",
    "# # creating a pdf file object \n",
    "# pdfFileObj = open('//ushtfs01/data/Public/LPB_Projects/PURD (JUNO)/05 MSAT/11 SD_ER_GMP_data/PPQ/PPQ_1/Production/USHT-374 19H867007a.pdf', 'rb')\n",
    "\n",
    "# # creating a pdf reader object \n",
    "# pdfReader = PyPDF2.PdfFileReader(pdfFileObj)\n",
    "\n",
    "# # printing number of pages in pdf file \n",
    "# # print(pdfReader.numPages) \n",
    "  \n",
    "# # creating a page object \n",
    "# pageObj = pdfReader.getPage(0) \n",
    "  \n",
    "# # extracting text from page \n",
    "# print(pageObj.extractText()) \n",
    "  \n",
    "# # closing the pdf file object \n",
    "# pdfFileObj.close() "
   ]
  },
  {
   "cell_type": "code",
   "execution_count": 2,
   "metadata": {},
   "outputs": [],
   "source": [
    "#######################################################\n",
    "# Holy Smokes!  This is mostly working!!\n",
    "# Incredible!\n",
    "#######################################################\n",
    "\n",
    "def angle_cos(p0, p1, p2):\n",
    "    d1, d2 = (p0-p1).astype('float'), (p2-p1).astype('float')\n",
    "    return abs( np.dot(d1, d2) / np.sqrt( np.dot(d1, d1)*np.dot(d2, d2) ) )\n",
    "\n",
    "#######################################################\n",
    "\n",
    "def find_squares(img, cos_limit = 0.1):\n",
    "    print('search for squares with threshold %f' % cos_limit)\n",
    "    img = cv2.GaussianBlur(img, (5, 5), 0)\n",
    "    squares = []\n",
    "    for gray in cv2.split(img):\n",
    "        for thrs in range(0, 255, 26):\n",
    "            if thrs == 0:\n",
    "                bin = cv2.Canny(gray, 0, 50, apertureSize=5)\n",
    "                bin = cv2.dilate(bin, None)\n",
    "            else:\n",
    "                retval, bin = cv2.threshold(gray, thrs, 255, cv2.THRESH_BINARY)\n",
    "            contours, hierarchy = cv2.findContours(bin, cv2.RETR_LIST, cv2.CHAIN_APPROX_SIMPLE)\n",
    "            for cnt in contours:\n",
    "                cnt_len = cv2.arcLength(cnt, True)\n",
    "                cnt = cv2.approxPolyDP(cnt, 0.02*cnt_len, True)\n",
    "                if len(cnt) == 4 and cv2.contourArea(cnt) > 1000 and cv2.isContourConvex(cnt):\n",
    "                    cnt = cnt.reshape(-1, 2)\n",
    "                    max_cos = np.max([angle_cos( cnt[i], cnt[(i+1) % 4], cnt[(i+2) % 4] ) for i in range(4)])\n",
    "                    if max_cos < cos_limit :\n",
    "                        squares.append(cnt)\n",
    "                    else:\n",
    "                        #print('dropped a square with max_cos %f' % max_cos)\n",
    "                        pass\n",
    "    return squares"
   ]
  },
  {
   "cell_type": "code",
   "execution_count": 2,
   "metadata": {},
   "outputs": [],
   "source": [
    "# ##########################################\n",
    "# # Define method() to identify squares\n",
    "# ##########################################\n",
    "\n",
    "# def find_squares(img):\n",
    "#     ### cv2.split() is asking about input arguments\n",
    "#     img = cv2.GaussianBlur(img, (5, 5), 0)\n",
    "#     # img = cv2.GaussianBlur(img, ksize = 7)\n",
    "#     squares = []\n",
    "#     for gray in cv2.split(img):\n",
    "#         for thrs in range(0, 255, 26):\n",
    "#             if thrs == 0:\n",
    "#                 bin = cv2.Canny(gray, 0, 50, apertureSize=5)\n",
    "#                 bin = cv2.dilate(bin, None)\n",
    "#             else:\n",
    "#                 _retval, bin = cv2.threshold(gray, thrs, 255, cv2.THRESH_BINARY)\n",
    "#             bin, contours, _hierarchy = cv2.findContours(bin, cv2.RETR_LIST, cv2.CHAIN_APPROX_SIMPLE)\n",
    "#             for cnt in contours:\n",
    "#                 cnt_len = cv2.arcLength(cnt, True)\n",
    "#                 cnt = cv2.approxPolyDP(cnt, 0.02*cnt_len, True)\n",
    "#                 if len(cnt) == 4 and cv2.contourArea(cnt) > 1000 and cv2.isContourConvex(cnt):\n",
    "#                     cnt = cnt.reshape(-1, 2)\n",
    "#                     max_cos = np.max([angle_cos( cnt[i], cnt[(i+1) % 4], cnt[(i+2) % 4] ) for i in range(4)])\n",
    "#                     #print(cnt)\n",
    "#                     a = (cnt[1][1] - cnt[0][1])\n",
    "\n",
    "#                     if max_cos < 0.1 and a < img.shape[0]*0.8:\n",
    "\n",
    "#                         squares.append(cnt)\n",
    "#     return squares"
   ]
  },
  {
   "cell_type": "code",
   "execution_count": 9,
   "metadata": {},
   "outputs": [],
   "source": [
    "# #######################################################\n",
    "# # Holy Smokes!  This is mostly working!!\n",
    "# #######################################################\n",
    "\n",
    "# def angle_cos(p0, p1, p2):\n",
    "#     d1, d2 = (p0-p1).astype('float'), (p2-p1).astype('float')\n",
    "#     return abs( np.dot(d1, d2) / np.sqrt( np.dot(d1, d1)*np.dot(d2, d2) ) )\n",
    "\n",
    "# def find_squares(img):\n",
    "#     img = cv2.GaussianBlur(img, (5, 5), 0)\n",
    "#     squares = []\n",
    "#     for gray in cv2.split(img):\n",
    "#         for thrs in range(0, 255, 26):\n",
    "#             if thrs == 0:\n",
    "#                 bin = cv2.Canny(gray, 0, 50, apertureSize=5)\n",
    "#                 bin = cv2.dilate(bin, None)\n",
    "#             else:\n",
    "#                 retval, bin = cv2.threshold(gray, thrs, 255, cv2.THRESH_BINARY)\n",
    "#             contours, hierarchy = cv2.findContours(bin, cv2.RETR_LIST, cv2.CHAIN_APPROX_SIMPLE)\n",
    "#             for cnt in contours:\n",
    "#                 cnt_len = cv2.arcLength(cnt, True)\n",
    "#                 cnt = cv2.approxPolyDP(cnt, 0.02*cnt_len, True)\n",
    "#                 if len(cnt) == 4 and cv2.contourArea(cnt) > 1000 and cv2.isContourConvex(cnt):\n",
    "#                     cnt = cnt.reshape(-1, 2)\n",
    "#                     max_cos = np.max([angle_cos( cnt[i], cnt[(i+1) % 4], cnt[(i+2) % 4] ) for i in range(4)])\n",
    "#                     if max_cos < 0.1:\n",
    "#                         squares.append(cnt)\n",
    "#     return squares"
   ]
  },
  {
   "cell_type": "code",
   "execution_count": 13,
   "metadata": {},
   "outputs": [
    {
     "data": {
      "text/plain": [
       "2247.5"
      ]
     },
     "execution_count": 13,
     "metadata": {},
     "output_type": "execute_result"
    }
   ],
   "source": [
    "# squares[6:10]\n",
    "# tmp[8]\n",
    "# cv2.contourArea(squares[1])"
   ]
  },
  {
   "cell_type": "code",
   "execution_count": 3,
   "metadata": {},
   "outputs": [],
   "source": [
    "# imgray = cv2.cvtColor(myImg, cv2.COLOR_BGR2GRAY)\n",
    "# ret, thresh = cv2.threshold(imgray, 127, 255, 0)\n",
    "# contours, hierarchy = cv2.findContours(thresh, cv2.RETR_TREE, cv2.CHAIN_APPROX_SIMPLE)\n",
    "\n",
    "#######################################################\n",
    "# need to keep only smaller squares #\n",
    "#######################################################\n",
    "\n",
    "# find area of squares and keep those below threshold \n",
    "\n",
    "# (squares[1][1] - squares[1][0])[1] * \n",
    "\n",
    "#################################################\n",
    "# Area of Square \n",
    "# first index needs to iterate \n",
    "#################################################\n",
    "\n",
    "def find_area(squaresOutput):\n",
    "    find_area_result = []\n",
    "    for square in squaresOutput:\n",
    "        # print(squaresOutput[k])\n",
    "        # print(find_area_result)\n",
    "        # find_area_result = abs((squaresOutput[k][1] - squaresOutput[k][0])[1] * (squaresOutput[k][3] - squaresOutput[k][0])[0])\n",
    "        # tmp = abs((square[1] - square[0])[1] * (square[3] - square[0])[0])\n",
    "        tmp = cv2.contourArea(square)\n",
    "        find_area_result.append(tmp)\n",
    "        # print(find_area_result)\n",
    "    return find_area_result\n",
    "# (squares[3][1] - squares[3][0])[1] * (squares[3][3] - squares[3][0])[0]"
   ]
  },
  {
   "cell_type": "code",
   "execution_count": 4,
   "metadata": {},
   "outputs": [
    {
     "ename": "NameError",
     "evalue": "name 'squares' is not defined",
     "output_type": "error",
     "traceback": [
      "\u001b[1;31m---------------------------------------------------------------------------\u001b[0m",
      "\u001b[1;31mNameError\u001b[0m                                 Traceback (most recent call last)",
      "\u001b[1;32m<ipython-input-4-ff804c45b96b>\u001b[0m in \u001b[0;36m<module>\u001b[1;34m\u001b[0m\n\u001b[1;32m----> 1\u001b[1;33m \u001b[0mtmp\u001b[0m \u001b[1;33m=\u001b[0m \u001b[0mfind_area\u001b[0m\u001b[1;33m(\u001b[0m\u001b[0msquares\u001b[0m\u001b[1;33m)\u001b[0m\u001b[1;33m\u001b[0m\u001b[1;33m\u001b[0m\u001b[0m\n\u001b[0m\u001b[0;32m      2\u001b[0m \u001b[1;33m\u001b[0m\u001b[0m\n\u001b[0;32m      3\u001b[0m \u001b[1;31m#################################################################\u001b[0m\u001b[1;33m\u001b[0m\u001b[1;33m\u001b[0m\u001b[1;33m\u001b[0m\u001b[0m\n\u001b[0;32m      4\u001b[0m \u001b[1;31m# Note that the squares are searched for in the cell below\u001b[0m\u001b[1;33m\u001b[0m\u001b[1;33m\u001b[0m\u001b[1;33m\u001b[0m\u001b[0m\n\u001b[0;32m      5\u001b[0m \u001b[1;31m#################################################################\u001b[0m\u001b[1;33m\u001b[0m\u001b[1;33m\u001b[0m\u001b[1;33m\u001b[0m\u001b[0m\n",
      "\u001b[1;31mNameError\u001b[0m: name 'squares' is not defined"
     ]
    }
   ],
   "source": [
    "tmp = find_area(squares)\n",
    "\n",
    "#################################################################\n",
    "# Note that the squares are searched for in the cell below\n",
    "#################################################################\n",
    "\n",
    "plt.plot(tmp)\n",
    "plt.show\n",
    "\n",
    "# squares[6]\n",
    "# plt.hist(tmp)"
   ]
  },
  {
   "cell_type": "code",
   "execution_count": 5,
   "metadata": {},
   "outputs": [
    {
     "ename": "NameError",
     "evalue": "name 'tmp' is not defined",
     "output_type": "error",
     "traceback": [
      "\u001b[1;31m---------------------------------------------------------------------------\u001b[0m",
      "\u001b[1;31mNameError\u001b[0m                                 Traceback (most recent call last)",
      "\u001b[1;32m<ipython-input-5-c014c198c4bc>\u001b[0m in \u001b[0;36m<module>\u001b[1;34m\u001b[0m\n\u001b[0;32m      4\u001b[0m \u001b[1;31m########################################\u001b[0m\u001b[1;33m\u001b[0m\u001b[1;33m\u001b[0m\u001b[1;33m\u001b[0m\u001b[0m\n\u001b[0;32m      5\u001b[0m \u001b[1;33m\u001b[0m\u001b[0m\n\u001b[1;32m----> 6\u001b[1;33m \u001b[0mkeep\u001b[0m \u001b[1;33m=\u001b[0m \u001b[0mpd\u001b[0m\u001b[1;33m.\u001b[0m\u001b[0mSeries\u001b[0m\u001b[1;33m(\u001b[0m\u001b[0mnp\u001b[0m\u001b[1;33m.\u001b[0m\u001b[0marray\u001b[0m\u001b[1;33m(\u001b[0m\u001b[0mtmp\u001b[0m\u001b[1;33m)\u001b[0m \u001b[1;33m<\u001b[0m \u001b[1;36m10000\u001b[0m\u001b[1;33m)\u001b[0m\u001b[1;33m\u001b[0m\u001b[1;33m\u001b[0m\u001b[0m\n\u001b[0m\u001b[0;32m      7\u001b[0m \u001b[1;31m# keep\u001b[0m\u001b[1;33m\u001b[0m\u001b[1;33m\u001b[0m\u001b[1;33m\u001b[0m\u001b[0m\n\u001b[0;32m      8\u001b[0m \u001b[1;31m# pd.DataFrame(np.array(tmp))\u001b[0m\u001b[1;33m\u001b[0m\u001b[1;33m\u001b[0m\u001b[1;33m\u001b[0m\u001b[0m\n",
      "\u001b[1;31mNameError\u001b[0m: name 'tmp' is not defined"
     ]
    }
   ],
   "source": [
    "########################################\n",
    "# apply threshold logic #\n",
    "# the threshold is currently set at 10\n",
    "########################################\n",
    "\n",
    "keep = pd.Series(np.array(tmp) < 10000)\n",
    "# keep\n",
    "# pd.DataFrame(np.array(tmp))\n",
    "# np.array([keep, squares])\n",
    "squares2 = np.array(squares)[keep]\n",
    "# squares2\n",
    "# np.array(squares)"
   ]
  },
  {
   "cell_type": "code",
   "execution_count": null,
   "metadata": {},
   "outputs": [
    {
     "name": "stdout",
     "output_type": "stream",
     "text": [
      "search for squares with threshold 0.025000\n"
     ]
    }
   ],
   "source": [
    "#######################################################\n",
    "# Holy Smokes!  This is mostly working!!\n",
    "# This is Awesome\n",
    "#######################################################\n",
    "\n",
    "# myImg = cv2.imread('M://sandbox/Jupyter/batchRecords/input/br_jpeg.jpeg')\n",
    "\n",
    "myImg = cv2.imread('M://sandbox/Jupyter/batchRecords/input/br_png.png')\n",
    "# np.size(cv2.split(myImg), 2)\n",
    "# cv2.split(myImg)\n",
    "# range(0,255,26)\n",
    "squares = find_squares(myImg, cos_limit = 0.025)\n",
    "cv2.drawContours(myImg, squares2, -1, (0, 255, 0), 3 )\n",
    "cv2.imshow('squares', myImg)\n",
    "cv2.waitKey(0)\n",
    "cv2.destroyAllWindows()\n",
    "# range(0, 255, 26)\n",
    "# cv2.drawContours(myImg, squares, -1, (0, 255, 0), 3)"
   ]
  },
  {
   "cell_type": "code",
   "execution_count": 11,
   "metadata": {},
   "outputs": [],
   "source": [
    "#######################################################\n",
    "# Now Extract Images\n",
    "#######################################################\n",
    "image_number = 0\n",
    "\n",
    "for square in squares2:\n",
    "    area = cv2.contourArea(square)\n",
    "    #if area > min_area and area < max_area:\n",
    "    x,y,w,h = cv2.boundingRect(square)\n",
    "    ROI = myImg[y:y+h, x:x+h]\n",
    "    cv2.imwrite('./output/ROI_{}.png'.format(image_number), ROI)\n",
    "    cv2.rectangle(myImg, (x, y), (x + w, y + h), (36,255,12), 2)\n",
    "    image_number += 1"
   ]
  },
  {
   "cell_type": "code",
   "execution_count": 59,
   "metadata": {},
   "outputs": [
    {
     "ename": "TesseractNotFoundError",
     "evalue": "tesseract is not installed or it's not in your path",
     "output_type": "error",
     "traceback": [
      "\u001b[1;31m---------------------------------------------------------------------------\u001b[0m",
      "\u001b[1;31mFileNotFoundError\u001b[0m                         Traceback (most recent call last)",
      "\u001b[1;32m~\\AppData\\Local\\Continuum\\anaconda3\\lib\\site-packages\\pytesseract\\pytesseract.py\u001b[0m in \u001b[0;36mrun_tesseract\u001b[1;34m(input_filename, output_filename_base, extension, lang, config, nice, timeout)\u001b[0m\n\u001b[0;32m    222\u001b[0m     \u001b[1;32mtry\u001b[0m\u001b[1;33m:\u001b[0m\u001b[1;33m\u001b[0m\u001b[1;33m\u001b[0m\u001b[0m\n\u001b[1;32m--> 223\u001b[1;33m         \u001b[0mproc\u001b[0m \u001b[1;33m=\u001b[0m \u001b[0msubprocess\u001b[0m\u001b[1;33m.\u001b[0m\u001b[0mPopen\u001b[0m\u001b[1;33m(\u001b[0m\u001b[0mcmd_args\u001b[0m\u001b[1;33m,\u001b[0m \u001b[1;33m**\u001b[0m\u001b[0msubprocess_args\u001b[0m\u001b[1;33m(\u001b[0m\u001b[1;33m)\u001b[0m\u001b[1;33m)\u001b[0m\u001b[1;33m\u001b[0m\u001b[1;33m\u001b[0m\u001b[0m\n\u001b[0m\u001b[0;32m    224\u001b[0m     \u001b[1;32mexcept\u001b[0m \u001b[0mOSError\u001b[0m\u001b[1;33m:\u001b[0m\u001b[1;33m\u001b[0m\u001b[1;33m\u001b[0m\u001b[0m\n",
      "\u001b[1;32m~\\AppData\\Local\\Continuum\\anaconda3\\lib\\subprocess.py\u001b[0m in \u001b[0;36m__init__\u001b[1;34m(self, args, bufsize, executable, stdin, stdout, stderr, preexec_fn, close_fds, shell, cwd, env, universal_newlines, startupinfo, creationflags, restore_signals, start_new_session, pass_fds, encoding, errors, text)\u001b[0m\n\u001b[0;32m    774\u001b[0m                                 \u001b[0merrread\u001b[0m\u001b[1;33m,\u001b[0m \u001b[0merrwrite\u001b[0m\u001b[1;33m,\u001b[0m\u001b[1;33m\u001b[0m\u001b[1;33m\u001b[0m\u001b[0m\n\u001b[1;32m--> 775\u001b[1;33m                                 restore_signals, start_new_session)\n\u001b[0m\u001b[0;32m    776\u001b[0m         \u001b[1;32mexcept\u001b[0m\u001b[1;33m:\u001b[0m\u001b[1;33m\u001b[0m\u001b[1;33m\u001b[0m\u001b[0m\n",
      "\u001b[1;32m~\\AppData\\Local\\Continuum\\anaconda3\\lib\\subprocess.py\u001b[0m in \u001b[0;36m_execute_child\u001b[1;34m(self, args, executable, preexec_fn, close_fds, pass_fds, cwd, env, startupinfo, creationflags, shell, p2cread, p2cwrite, c2pread, c2pwrite, errread, errwrite, unused_restore_signals, unused_start_new_session)\u001b[0m\n\u001b[0;32m   1177\u001b[0m                                          \u001b[0mos\u001b[0m\u001b[1;33m.\u001b[0m\u001b[0mfspath\u001b[0m\u001b[1;33m(\u001b[0m\u001b[0mcwd\u001b[0m\u001b[1;33m)\u001b[0m \u001b[1;32mif\u001b[0m \u001b[0mcwd\u001b[0m \u001b[1;32mis\u001b[0m \u001b[1;32mnot\u001b[0m \u001b[1;32mNone\u001b[0m \u001b[1;32melse\u001b[0m \u001b[1;32mNone\u001b[0m\u001b[1;33m,\u001b[0m\u001b[1;33m\u001b[0m\u001b[1;33m\u001b[0m\u001b[0m\n\u001b[1;32m-> 1178\u001b[1;33m                                          startupinfo)\n\u001b[0m\u001b[0;32m   1179\u001b[0m             \u001b[1;32mfinally\u001b[0m\u001b[1;33m:\u001b[0m\u001b[1;33m\u001b[0m\u001b[1;33m\u001b[0m\u001b[0m\n",
      "\u001b[1;31mFileNotFoundError\u001b[0m: [WinError 2] The system cannot find the file specified",
      "\nDuring handling of the above exception, another exception occurred:\n",
      "\u001b[1;31mTesseractNotFoundError\u001b[0m                    Traceback (most recent call last)",
      "\u001b[1;32m<ipython-input-59-d41b411b7f46>\u001b[0m in \u001b[0;36m<module>\u001b[1;34m\u001b[0m\n\u001b[0;32m      3\u001b[0m \u001b[1;31m############################################\u001b[0m\u001b[1;33m\u001b[0m\u001b[1;33m\u001b[0m\u001b[1;33m\u001b[0m\u001b[0m\n\u001b[0;32m      4\u001b[0m \u001b[1;33m\u001b[0m\u001b[0m\n\u001b[1;32m----> 5\u001b[1;33m \u001b[0mtext\u001b[0m \u001b[1;33m=\u001b[0m \u001b[0mpytesseract\u001b[0m\u001b[1;33m.\u001b[0m\u001b[0mimage_to_string\u001b[0m\u001b[1;33m(\u001b[0m\u001b[0mImage\u001b[0m\u001b[1;33m.\u001b[0m\u001b[0mopen\u001b[0m\u001b[1;33m(\u001b[0m\u001b[1;34m'C://Users/Dcovarrubi/Documents/Jupyter/batchRecords/output/ROI_12.png'\u001b[0m\u001b[1;33m)\u001b[0m\u001b[1;33m)\u001b[0m\u001b[1;33m\u001b[0m\u001b[1;33m\u001b[0m\u001b[0m\n\u001b[0m\u001b[0;32m      6\u001b[0m \u001b[1;33m\u001b[0m\u001b[0m\n\u001b[0;32m      7\u001b[0m \u001b[1;31m# tools = pyocr.get_available_tools()[0]\u001b[0m\u001b[1;33m\u001b[0m\u001b[1;33m\u001b[0m\u001b[1;33m\u001b[0m\u001b[0m\n",
      "\u001b[1;32m~\\AppData\\Local\\Continuum\\anaconda3\\lib\\site-packages\\pytesseract\\pytesseract.py\u001b[0m in \u001b[0;36mimage_to_string\u001b[1;34m(image, lang, config, nice, output_type, timeout)\u001b[0m\n\u001b[0;32m    343\u001b[0m         \u001b[0mOutput\u001b[0m\u001b[1;33m.\u001b[0m\u001b[0mDICT\u001b[0m\u001b[1;33m:\u001b[0m \u001b[1;32mlambda\u001b[0m\u001b[1;33m:\u001b[0m \u001b[1;33m{\u001b[0m\u001b[1;34m'text'\u001b[0m\u001b[1;33m:\u001b[0m \u001b[0mrun_and_get_output\u001b[0m\u001b[1;33m(\u001b[0m\u001b[1;33m*\u001b[0m\u001b[0margs\u001b[0m\u001b[1;33m)\u001b[0m\u001b[1;33m}\u001b[0m\u001b[1;33m,\u001b[0m\u001b[1;33m\u001b[0m\u001b[1;33m\u001b[0m\u001b[0m\n\u001b[0;32m    344\u001b[0m         \u001b[0mOutput\u001b[0m\u001b[1;33m.\u001b[0m\u001b[0mSTRING\u001b[0m\u001b[1;33m:\u001b[0m \u001b[1;32mlambda\u001b[0m\u001b[1;33m:\u001b[0m \u001b[0mrun_and_get_output\u001b[0m\u001b[1;33m(\u001b[0m\u001b[1;33m*\u001b[0m\u001b[0margs\u001b[0m\u001b[1;33m)\u001b[0m\u001b[1;33m,\u001b[0m\u001b[1;33m\u001b[0m\u001b[1;33m\u001b[0m\u001b[0m\n\u001b[1;32m--> 345\u001b[1;33m     }[output_type]()\n\u001b[0m\u001b[0;32m    346\u001b[0m \u001b[1;33m\u001b[0m\u001b[0m\n\u001b[0;32m    347\u001b[0m \u001b[1;33m\u001b[0m\u001b[0m\n",
      "\u001b[1;32m~\\AppData\\Local\\Continuum\\anaconda3\\lib\\site-packages\\pytesseract\\pytesseract.py\u001b[0m in \u001b[0;36m<lambda>\u001b[1;34m()\u001b[0m\n\u001b[0;32m    342\u001b[0m         \u001b[0mOutput\u001b[0m\u001b[1;33m.\u001b[0m\u001b[0mBYTES\u001b[0m\u001b[1;33m:\u001b[0m \u001b[1;32mlambda\u001b[0m\u001b[1;33m:\u001b[0m \u001b[0mrun_and_get_output\u001b[0m\u001b[1;33m(\u001b[0m\u001b[1;33m*\u001b[0m\u001b[1;33m(\u001b[0m\u001b[0margs\u001b[0m \u001b[1;33m+\u001b[0m \u001b[1;33m[\u001b[0m\u001b[1;32mTrue\u001b[0m\u001b[1;33m]\u001b[0m\u001b[1;33m)\u001b[0m\u001b[1;33m)\u001b[0m\u001b[1;33m,\u001b[0m\u001b[1;33m\u001b[0m\u001b[1;33m\u001b[0m\u001b[0m\n\u001b[0;32m    343\u001b[0m         \u001b[0mOutput\u001b[0m\u001b[1;33m.\u001b[0m\u001b[0mDICT\u001b[0m\u001b[1;33m:\u001b[0m \u001b[1;32mlambda\u001b[0m\u001b[1;33m:\u001b[0m \u001b[1;33m{\u001b[0m\u001b[1;34m'text'\u001b[0m\u001b[1;33m:\u001b[0m \u001b[0mrun_and_get_output\u001b[0m\u001b[1;33m(\u001b[0m\u001b[1;33m*\u001b[0m\u001b[0margs\u001b[0m\u001b[1;33m)\u001b[0m\u001b[1;33m}\u001b[0m\u001b[1;33m,\u001b[0m\u001b[1;33m\u001b[0m\u001b[1;33m\u001b[0m\u001b[0m\n\u001b[1;32m--> 344\u001b[1;33m         \u001b[0mOutput\u001b[0m\u001b[1;33m.\u001b[0m\u001b[0mSTRING\u001b[0m\u001b[1;33m:\u001b[0m \u001b[1;32mlambda\u001b[0m\u001b[1;33m:\u001b[0m \u001b[0mrun_and_get_output\u001b[0m\u001b[1;33m(\u001b[0m\u001b[1;33m*\u001b[0m\u001b[0margs\u001b[0m\u001b[1;33m)\u001b[0m\u001b[1;33m,\u001b[0m\u001b[1;33m\u001b[0m\u001b[1;33m\u001b[0m\u001b[0m\n\u001b[0m\u001b[0;32m    345\u001b[0m     }[output_type]()\n\u001b[0;32m    346\u001b[0m \u001b[1;33m\u001b[0m\u001b[0m\n",
      "\u001b[1;32m~\\AppData\\Local\\Continuum\\anaconda3\\lib\\site-packages\\pytesseract\\pytesseract.py\u001b[0m in \u001b[0;36mrun_and_get_output\u001b[1;34m(image, extension, lang, config, nice, timeout, return_bytes)\u001b[0m\n\u001b[0;32m    251\u001b[0m         }\n\u001b[0;32m    252\u001b[0m \u001b[1;33m\u001b[0m\u001b[0m\n\u001b[1;32m--> 253\u001b[1;33m         \u001b[0mrun_tesseract\u001b[0m\u001b[1;33m(\u001b[0m\u001b[1;33m**\u001b[0m\u001b[0mkwargs\u001b[0m\u001b[1;33m)\u001b[0m\u001b[1;33m\u001b[0m\u001b[1;33m\u001b[0m\u001b[0m\n\u001b[0m\u001b[0;32m    254\u001b[0m         \u001b[0mfilename\u001b[0m \u001b[1;33m=\u001b[0m \u001b[0mkwargs\u001b[0m\u001b[1;33m[\u001b[0m\u001b[1;34m'output_filename_base'\u001b[0m\u001b[1;33m]\u001b[0m \u001b[1;33m+\u001b[0m \u001b[0mos\u001b[0m\u001b[1;33m.\u001b[0m\u001b[0mextsep\u001b[0m \u001b[1;33m+\u001b[0m \u001b[0mextension\u001b[0m\u001b[1;33m\u001b[0m\u001b[1;33m\u001b[0m\u001b[0m\n\u001b[0;32m    255\u001b[0m         \u001b[1;32mwith\u001b[0m \u001b[0mopen\u001b[0m\u001b[1;33m(\u001b[0m\u001b[0mfilename\u001b[0m\u001b[1;33m,\u001b[0m \u001b[1;34m'rb'\u001b[0m\u001b[1;33m)\u001b[0m \u001b[1;32mas\u001b[0m \u001b[0moutput_file\u001b[0m\u001b[1;33m:\u001b[0m\u001b[1;33m\u001b[0m\u001b[1;33m\u001b[0m\u001b[0m\n",
      "\u001b[1;32m~\\AppData\\Local\\Continuum\\anaconda3\\lib\\site-packages\\pytesseract\\pytesseract.py\u001b[0m in \u001b[0;36mrun_tesseract\u001b[1;34m(input_filename, output_filename_base, extension, lang, config, nice, timeout)\u001b[0m\n\u001b[0;32m    223\u001b[0m         \u001b[0mproc\u001b[0m \u001b[1;33m=\u001b[0m \u001b[0msubprocess\u001b[0m\u001b[1;33m.\u001b[0m\u001b[0mPopen\u001b[0m\u001b[1;33m(\u001b[0m\u001b[0mcmd_args\u001b[0m\u001b[1;33m,\u001b[0m \u001b[1;33m**\u001b[0m\u001b[0msubprocess_args\u001b[0m\u001b[1;33m(\u001b[0m\u001b[1;33m)\u001b[0m\u001b[1;33m)\u001b[0m\u001b[1;33m\u001b[0m\u001b[1;33m\u001b[0m\u001b[0m\n\u001b[0;32m    224\u001b[0m     \u001b[1;32mexcept\u001b[0m \u001b[0mOSError\u001b[0m\u001b[1;33m:\u001b[0m\u001b[1;33m\u001b[0m\u001b[1;33m\u001b[0m\u001b[0m\n\u001b[1;32m--> 225\u001b[1;33m         \u001b[1;32mraise\u001b[0m \u001b[0mTesseractNotFoundError\u001b[0m\u001b[1;33m(\u001b[0m\u001b[1;33m)\u001b[0m\u001b[1;33m\u001b[0m\u001b[1;33m\u001b[0m\u001b[0m\n\u001b[0m\u001b[0;32m    226\u001b[0m \u001b[1;33m\u001b[0m\u001b[0m\n\u001b[0;32m    227\u001b[0m     \u001b[1;32mwith\u001b[0m \u001b[0mtimeout_manager\u001b[0m\u001b[1;33m(\u001b[0m\u001b[0mproc\u001b[0m\u001b[1;33m,\u001b[0m \u001b[0mtimeout\u001b[0m\u001b[1;33m)\u001b[0m \u001b[1;32mas\u001b[0m \u001b[0merror_string\u001b[0m\u001b[1;33m:\u001b[0m\u001b[1;33m\u001b[0m\u001b[1;33m\u001b[0m\u001b[0m\n",
      "\u001b[1;31mTesseractNotFoundError\u001b[0m: tesseract is not installed or it's not in your path"
     ]
    }
   ],
   "source": [
    "############################################\n",
    "# run images through Tesseract #\n",
    "############################################\n",
    "\n",
    "text = pytesseract.image_to_string(Image.open('C://Users/Dcovarrubi/Documents/Jupyter/batchRecords/output/ROI_12.png'))\n",
    "\n",
    "# tools = pyocr.get_available_tools()[0]\n",
    "\n",
    "# text = tools.image_to_string(Image.open('C://Users/Dcovarrubi/Documents/Jupyter/batchRecords/output/ROI_11.png'),builder=pyocr.builders.DigitBuilder())\n",
    "\n",
    "# img = Image.open('C://Users/Dcovarrubi/Documents/Jupyter/batchRecords/output/ROI_12.png')\n",
    "# img = img.convert('L')\n",
    "# img\n",
    "# img.save('./output/testImage.jpg')"
   ]
  },
  {
   "cell_type": "code",
   "execution_count": 179,
   "metadata": {},
   "outputs": [],
   "source": [
    "# cnt = contours[4]\n",
    "# cv2.drawContours(img, [cnt], 0, (0,255,0), 3)"
   ]
  },
  {
   "cell_type": "code",
   "execution_count": 235,
   "metadata": {},
   "outputs": [],
   "source": [
    "# image = cv2.imread('M://sandbox/Jupyter/batchRecords/input/br_png.png')\n",
    "\n",
    "# gray = cv2.cvtColor(image, cv2.COLOR_BGR2GRAY)\n",
    "# blur = cv2.medianBlur(gray, 5)\n",
    "# sharpen_kernel = np.array([[-1,-1,-1], [-1,9,-1], [-1,-1,-1]])\n",
    "# sharpen = cv2.filter2D(blur, -1, sharpen_kernel)\n",
    "    \n",
    "# thresh = cv2.threshold(sharpen,160,255, cv2.THRESH_BINARY_INV)[1]\n",
    "# kernel = cv2.getStructuringElement(cv2.MORPH_RECT, (3,3))\n",
    "# close = cv2.morphologyEx(thresh, cv2.MORPH_CLOSE, kernel, iterations=2)\n",
    "\n",
    "# cnts = cv2.findContours(close, cv2.RETR_EXTERNAL, cv2.CHAIN_APPROX_SIMPLE)\n",
    "# cnts = cnts[0] if len(cnts) == 2 else cnts[1]\n",
    "\n",
    "# min_area = 100\n",
    "# max_area = 500\n",
    "# image_number = 0\n",
    "# for c in cnts:\n",
    "#     area = cv2.contourArea(c)\n",
    "#     if area > min_area and area < max_area:\n",
    "#         x,y,w,h = cv2.boundingRect(c)\n",
    "#         ROI = image[y:y+h, x:x+h]\n",
    "#         cv2.imwrite('./output/ROI_{}.png'.format(image_number), ROI)\n",
    "#         cv2.rectangle(image, (x, y), (x + w, y + h), (36,255,12), 2)\n",
    "#         image_number += 1\n",
    "\n",
    "# #cv2.imshow('sharpen', sharpen)\n",
    "# #cv2.imshow('close', close)\n",
    "# #cv2.imshow('thresh', thresh)\n",
    "# cv2.imshow('image', image)\n",
    "# # cv2.waitKey()\n",
    "# cv2.waitKey(0)\n",
    "# cv2.destroyAllWindows()"
   ]
  },
  {
   "cell_type": "code",
   "execution_count": 12,
   "metadata": {},
   "outputs": [],
   "source": [
    "# cnts[2]"
   ]
  }
 ],
 "metadata": {
  "kernelspec": {
   "display_name": "Python 3",
   "language": "python",
   "name": "python3"
  },
  "language_info": {
   "codemirror_mode": {
    "name": "ipython",
    "version": 3
   },
   "file_extension": ".py",
   "mimetype": "text/x-python",
   "name": "python",
   "nbconvert_exporter": "python",
   "pygments_lexer": "ipython3",
   "version": "3.7.3"
  }
 },
 "nbformat": 4,
 "nbformat_minor": 2
}
