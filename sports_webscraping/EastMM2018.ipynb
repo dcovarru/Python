{
 "cells": [
  {
   "cell_type": "code",
   "execution_count": 1,
   "metadata": {},
   "outputs": [],
   "source": [
    "##################################\n",
    "# Import packages                #\n",
    "##################################\n",
    "\n",
    "from bs4 import BeautifulSoup\n",
    "from urllib.request import urlopen\n",
    "import pandas as pd\n",
    "import re\n",
    "import os"
   ]
  },
  {
   "cell_type": "code",
   "execution_count": 4,
   "metadata": {},
   "outputs": [
    {
     "data": {
      "text/plain": [
       "'/Users/danielcovarrubias/Documents/GitHub/sports_webscraping'"
      ]
     },
     "execution_count": 4,
     "metadata": {},
     "output_type": "execute_result"
    }
   ],
   "source": [
    "os.getcwd()"
   ]
  },
  {
   "cell_type": "code",
   "execution_count": 9,
   "metadata": {},
   "outputs": [],
   "source": [
    "def EastMM():\n",
    "    url = \"https://www.sports-reference.com/cbb/postseason/2019-ncaa.html\"\n",
    "    page = urlopen(url).read()\n",
    "    soup = BeautifulSoup(page)\n",
    "    count  = 0\n",
    "    table = soup.find(\"div\", class_= \"team16\") #finds the place where the 16 teams are held\n",
    "    round1 = table.find(\"div\", class_ = \"round\") #finds only the first round, since I only need the 16 teams from the beginning once\n",
    "    schools = round1.find_all(href=re.compile(\"schools\"))\n",
    "    school_dict = dict()\n",
    "    \n",
    "    for row in schools: #creates a key and value for each of the 16 teams in the school dictionary\n",
    "        school_name = row.getText()\n",
    "#         or (\" \" in school_name == True) this isn't needed below, as the replace fn doesn't effect non \"-\" colleges\n",
    "        if((school_name.islower() == False)):\n",
    "            if(('.' in school_name)):\n",
    "                new_school_name = school_name.replace(\" \", \"-\")\n",
    "                new_school_name2 = new_school_name.replace(\".\", \"\")\n",
    "                new_school_name2 = new_school_name2.lower()\n",
    "                school_dict[new_school_name2] = school_name\n",
    "            else:\n",
    "                new_school_name = school_name.replace(\" \", \"-\")\n",
    "                new_school_name = new_school_name.lower()\n",
    "                school_dict[new_school_name] = school_name\n",
    "        else:\n",
    "            school_dict[school_name] = school_name\n",
    "\n",
    "    return school_dict\n",
    "\n",
    "def getDfMM():\n",
    "    school_set = EastMM()\n",
    "    dfs = []\n",
    "    final_df = pd.DataFrame()\n",
    "    for school in school_set:\n",
    "        url = \"https://www.sports-reference.com/cbb/schools/\" + school + \"/2020-gamelogs.html\"\n",
    "        page = urlopen(url).read()\n",
    "        soup = BeautifulSoup(page)\n",
    "        count = 0\n",
    "        pre_DF = dict()\n",
    "#         school_set = data_table()\n",
    "        table = soup.find(\"tbody\")\n",
    "#         featuresWanted = {'date_game','game_location','opp_id','game_season','pts','opp_pts'}\n",
    "        featuresWanted = {'opp_id','game_result','pts','opp_pts', 'date_game'}\n",
    "        rows = table.find_all('tr')\n",
    "        \n",
    "        for row in rows:\n",
    "            if (row.find('th', {\"scope\": \"row\"}) != None):\n",
    "                for f in featuresWanted:\n",
    "                    cell = row.find(\"td\", {\"data-stat\": f})\n",
    "                    a = cell.text.strip().encode()\n",
    "                    text = a.decode(\"utf-8\")\n",
    "                    if f in pre_DF:\n",
    "                        pre_DF[f].append(text)\n",
    "                    else:\n",
    "                        pre_DF[f]=[text]\n",
    "                        \n",
    "        df = pd.DataFrame.from_dict(pre_DF)\n",
    "        df[\"opp_id\"]= df[\"opp_id\"].apply(lambda row: (row.split(\"(\")[0]).rstrip())\n",
    "#         really need to fully understand the line above me! ^^^^\n",
    "        df[\"school_name\"] = school_set[school]\n",
    "        df[\"school_name\"] = df[\"school_name\"].apply(removeNCAA)\n",
    "        final_df=pd.concat([final_df,df])\n",
    "        \n",
    "    return final_df"
   ]
  },
  {
   "cell_type": "code",
   "execution_count": 7,
   "metadata": {},
   "outputs": [],
   "source": [
    "school_set = EastMM()"
   ]
  },
  {
   "cell_type": "code",
   "execution_count": 8,
   "metadata": {},
   "outputs": [
    {
     "data": {
      "text/plain": [
       "{'duke': 'Duke',\n",
       " 'north-dakota-state': 'North Dakota State',\n",
       " 'vcu': 'VCU',\n",
       " 'ucf': 'UCF',\n",
       " 'mississippi-state': 'Mississippi State',\n",
       " 'liberty': 'Liberty',\n",
       " 'virginia-tech': 'Virginia Tech',\n",
       " 'saint-louis': 'Saint Louis',\n",
       " 'maryland': 'Maryland',\n",
       " 'belmont': 'Belmont',\n",
       " 'lsu': 'LSU',\n",
       " 'yale': 'Yale',\n",
       " 'louisville': 'Louisville',\n",
       " 'minnesota': 'Minnesota',\n",
       " 'michigan-state': 'Michigan State',\n",
       " 'bradley': 'Bradley'}"
      ]
     },
     "execution_count": 8,
     "metadata": {},
     "output_type": "execute_result"
    }
   ],
   "source": [
    "school_set"
   ]
  },
  {
   "cell_type": "code",
   "execution_count": null,
   "metadata": {},
   "outputs": [],
   "source": [
    "def removeNCAA(x):\n",
    "    if(\"NCAA\" in x):\n",
    "        return x[:-5]\n",
    "    else:\n",
    "        return x"
   ]
  },
  {
   "cell_type": "code",
   "execution_count": null,
   "metadata": {},
   "outputs": [],
   "source": [
    "def csvDumpMM():\n",
    "    df = getDfMM()\n",
    "    df.to_csv(\"EastMM2018.csv\")"
   ]
  },
  {
   "cell_type": "code",
   "execution_count": null,
   "metadata": {},
   "outputs": [],
   "source": [
    "csvDumpMM()"
   ]
  }
 ],
 "metadata": {
  "kernelspec": {
   "display_name": "Python 3",
   "language": "python",
   "name": "python3"
  },
  "language_info": {
   "codemirror_mode": {
    "name": "ipython",
    "version": 3
   },
   "file_extension": ".py",
   "mimetype": "text/x-python",
   "name": "python",
   "nbconvert_exporter": "python",
   "pygments_lexer": "ipython3",
   "version": "3.7.4"
  }
 },
 "nbformat": 4,
 "nbformat_minor": 2
}
