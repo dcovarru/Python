{
  "nbformat": 4,
  "nbformat_minor": 0,
  "metadata": {
    "colab": {
      "name": "Covid.ipynb",
      "provenance": [],
      "collapsed_sections": [],
      "authorship_tag": "ABX9TyNsI6qbsflqw4g6nO+5bACr",
      "include_colab_link": true
    },
    "kernelspec": {
      "name": "python3",
      "display_name": "Python 3"
    }
  },
  "cells": [
    {
      "cell_type": "markdown",
      "metadata": {
        "id": "view-in-github",
        "colab_type": "text"
      },
      "source": [
        "<a href=\"https://colab.research.google.com/github/dcovarru/Python/blob/master/Covid.ipynb\" target=\"_parent\"><img src=\"https://colab.research.google.com/assets/colab-badge.svg\" alt=\"Open In Colab\"/></a>"
      ]
    },
    {
      "cell_type": "code",
      "metadata": {
        "id": "kPgxs-YXaoG2",
        "colab_type": "code",
        "colab": {}
      },
      "source": [
        "#####################\n",
        "# Import packages\n",
        "#####################\n",
        "\n",
        "import pandas as pd\n",
        "import dateutil\n",
        "import datetime"
      ],
      "execution_count": 0,
      "outputs": []
    },
    {
      "cell_type": "code",
      "metadata": {
        "id": "yIV48hAs49Dw",
        "colab_type": "code",
        "colab": {}
      },
      "source": [
        "#####################\n",
        "# Import NYT data \n",
        "#####################\n",
        "\n",
        "covidData = pd.read_csv('https://github.com/nytimes/covid-19-data/raw/master/us-counties.csv')\n",
        "\n",
        "# https://github.com/nytimes/covid-19-data\n",
        "# https://github.com/CSSEGISandData/COVID-19/tree/master/csse_covid_19_data\n",
        "\n",
        "#####################\n",
        "# helper sites #\n",
        "#####################\n",
        "\n",
        "# https://medium.com/@deallen7/managing-date-datetime-and-timestamp-in-python-pandas-cc9d285302ab#83e5\n",
        "# https://www.shanelynn.ie/summarising-aggregation-and-grouping-data-in-python-pandas/"
      ],
      "execution_count": 0,
      "outputs": []
    },
    {
      "cell_type": "code",
      "metadata": {
        "id": "0ZAZVdvVGarh",
        "colab_type": "code",
        "colab": {}
      },
      "source": [
        "# ensure Date is data\n",
        "# covidData.dtypes\n",
        "# covidData['date'] = covidData['date'].apply(dateutil.parser.parse, dayfirst=True)\n",
        "covidData['date_dtFormat'] = pd.to_datetime(covidData['date'])\n",
        "# covidData"
      ],
      "execution_count": 0,
      "outputs": []
    },
    {
      "cell_type": "code",
      "metadata": {
        "id": "VX3mcJ2AJ71x",
        "colab_type": "code",
        "outputId": "3d1639ec-4edf-429f-c221-da9870f8f073",
        "colab": {
          "base_uri": "https://localhost:8080/",
          "height": 163
        }
      },
      "source": [
        "covidData.dtypes"
      ],
      "execution_count": 0,
      "outputs": [
        {
          "output_type": "execute_result",
          "data": {
            "text/plain": [
              "date                     object\n",
              "county                   object\n",
              "state                    object\n",
              "fips                    float64\n",
              "cases                     int64\n",
              "deaths                    int64\n",
              "date_dtFormat    datetime64[ns]\n",
              "dtype: object"
            ]
          },
          "metadata": {
            "tags": []
          },
          "execution_count": 5
        }
      ]
    },
    {
      "cell_type": "code",
      "metadata": {
        "id": "BylFmj568Mt_",
        "colab_type": "code",
        "outputId": "62fb5c06-5606-4165-a808-577d670d353f",
        "colab": {
          "base_uri": "https://localhost:8080/",
          "height": 407
        }
      },
      "source": [
        "#####################\n",
        "# ETL data \n",
        "#####################\n",
        "covidData[['date_dtFormat']]\n",
        "covidData.loc[:,['date_dtFormat']]\n"
      ],
      "execution_count": 0,
      "outputs": [
        {
          "output_type": "execute_result",
          "data": {
            "text/html": [
              "<div>\n",
              "<style scoped>\n",
              "    .dataframe tbody tr th:only-of-type {\n",
              "        vertical-align: middle;\n",
              "    }\n",
              "\n",
              "    .dataframe tbody tr th {\n",
              "        vertical-align: top;\n",
              "    }\n",
              "\n",
              "    .dataframe thead th {\n",
              "        text-align: right;\n",
              "    }\n",
              "</style>\n",
              "<table border=\"1\" class=\"dataframe\">\n",
              "  <thead>\n",
              "    <tr style=\"text-align: right;\">\n",
              "      <th></th>\n",
              "      <th>date_dtFormat</th>\n",
              "    </tr>\n",
              "  </thead>\n",
              "  <tbody>\n",
              "    <tr>\n",
              "      <th>0</th>\n",
              "      <td>2020-01-21</td>\n",
              "    </tr>\n",
              "    <tr>\n",
              "      <th>1</th>\n",
              "      <td>2020-01-22</td>\n",
              "    </tr>\n",
              "    <tr>\n",
              "      <th>2</th>\n",
              "      <td>2020-01-23</td>\n",
              "    </tr>\n",
              "    <tr>\n",
              "      <th>3</th>\n",
              "      <td>2020-01-24</td>\n",
              "    </tr>\n",
              "    <tr>\n",
              "      <th>4</th>\n",
              "      <td>2020-01-24</td>\n",
              "    </tr>\n",
              "    <tr>\n",
              "      <th>...</th>\n",
              "      <td>...</td>\n",
              "    </tr>\n",
              "    <tr>\n",
              "      <th>118338</th>\n",
              "      <td>2020-05-05</td>\n",
              "    </tr>\n",
              "    <tr>\n",
              "      <th>118339</th>\n",
              "      <td>2020-05-05</td>\n",
              "    </tr>\n",
              "    <tr>\n",
              "      <th>118340</th>\n",
              "      <td>2020-05-05</td>\n",
              "    </tr>\n",
              "    <tr>\n",
              "      <th>118341</th>\n",
              "      <td>2020-05-05</td>\n",
              "    </tr>\n",
              "    <tr>\n",
              "      <th>118342</th>\n",
              "      <td>2020-05-05</td>\n",
              "    </tr>\n",
              "  </tbody>\n",
              "</table>\n",
              "<p>118343 rows × 1 columns</p>\n",
              "</div>"
            ],
            "text/plain": [
              "       date_dtFormat\n",
              "0         2020-01-21\n",
              "1         2020-01-22\n",
              "2         2020-01-23\n",
              "3         2020-01-24\n",
              "4         2020-01-24\n",
              "...              ...\n",
              "118338    2020-05-05\n",
              "118339    2020-05-05\n",
              "118340    2020-05-05\n",
              "118341    2020-05-05\n",
              "118342    2020-05-05\n",
              "\n",
              "[118343 rows x 1 columns]"
            ]
          },
          "metadata": {
            "tags": []
          },
          "execution_count": 6
        }
      ]
    },
    {
      "cell_type": "code",
      "metadata": {
        "id": "C5ZWRMqKNiBx",
        "colab_type": "code",
        "colab": {}
      },
      "source": [
        "#####################\n",
        "# Aggregate by Week\n",
        "#####################\n",
        "\n",
        "# covidData.tail(30)\n",
        "# df['date_time'].dt.strftime('%Y-%U')\n",
        "# covidData['date_dtFormat'].dt.strftime('%Y-%w')\n",
        "covidData['date_dtFormat2'] = covidData['date_dtFormat'].dt.strftime('\"%A %d %B %Y\"')\n",
        "# covidData['date_dtFormat'].dt.strftime('%b %d %Y')\n",
        "\n",
        "# Extract Week\n",
        "## covidData['data_week'] = covidData['date_dtFormat'].dt.week\n",
        "# Extract Month\n",
        "## covidData['data_month'] = covidData['date_dtFormat'].dt.month"
      ],
      "execution_count": 0,
      "outputs": []
    },
    {
      "cell_type": "code",
      "metadata": {
        "id": "xtPbfyDXVE1v",
        "colab_type": "code",
        "outputId": "3ebf770a-8f24-4e6c-8ae2-337f5d4edd14",
        "colab": {
          "base_uri": "https://localhost:8080/",
          "height": 407
        }
      },
      "source": [
        "covidData[(covidData.state == 'Texas') & (covidData.county=='Bexar')]"
      ],
      "execution_count": 0,
      "outputs": [
        {
          "output_type": "execute_result",
          "data": {
            "text/html": [
              "<div>\n",
              "<style scoped>\n",
              "    .dataframe tbody tr th:only-of-type {\n",
              "        vertical-align: middle;\n",
              "    }\n",
              "\n",
              "    .dataframe tbody tr th {\n",
              "        vertical-align: top;\n",
              "    }\n",
              "\n",
              "    .dataframe thead th {\n",
              "        text-align: right;\n",
              "    }\n",
              "</style>\n",
              "<table border=\"1\" class=\"dataframe\">\n",
              "  <thead>\n",
              "    <tr style=\"text-align: right;\">\n",
              "      <th></th>\n",
              "      <th>date</th>\n",
              "      <th>county</th>\n",
              "      <th>state</th>\n",
              "      <th>fips</th>\n",
              "      <th>cases</th>\n",
              "      <th>deaths</th>\n",
              "      <th>date_dtFormat</th>\n",
              "      <th>date_dtFormat2</th>\n",
              "    </tr>\n",
              "  </thead>\n",
              "  <tbody>\n",
              "    <tr>\n",
              "      <th>143</th>\n",
              "      <td>2020-02-12</td>\n",
              "      <td>Bexar</td>\n",
              "      <td>Texas</td>\n",
              "      <td>48029.0</td>\n",
              "      <td>1</td>\n",
              "      <td>0</td>\n",
              "      <td>2020-02-12</td>\n",
              "      <td>\"Wednesday 12 February 2020\"</td>\n",
              "    </tr>\n",
              "    <tr>\n",
              "      <th>154</th>\n",
              "      <td>2020-02-13</td>\n",
              "      <td>Bexar</td>\n",
              "      <td>Texas</td>\n",
              "      <td>48029.0</td>\n",
              "      <td>2</td>\n",
              "      <td>0</td>\n",
              "      <td>2020-02-13</td>\n",
              "      <td>\"Thursday 13 February 2020\"</td>\n",
              "    </tr>\n",
              "    <tr>\n",
              "      <th>165</th>\n",
              "      <td>2020-02-14</td>\n",
              "      <td>Bexar</td>\n",
              "      <td>Texas</td>\n",
              "      <td>48029.0</td>\n",
              "      <td>2</td>\n",
              "      <td>0</td>\n",
              "      <td>2020-02-14</td>\n",
              "      <td>\"Friday 14 February 2020\"</td>\n",
              "    </tr>\n",
              "    <tr>\n",
              "      <th>176</th>\n",
              "      <td>2020-02-15</td>\n",
              "      <td>Bexar</td>\n",
              "      <td>Texas</td>\n",
              "      <td>48029.0</td>\n",
              "      <td>2</td>\n",
              "      <td>0</td>\n",
              "      <td>2020-02-15</td>\n",
              "      <td>\"Saturday 15 February 2020\"</td>\n",
              "    </tr>\n",
              "    <tr>\n",
              "      <th>187</th>\n",
              "      <td>2020-02-16</td>\n",
              "      <td>Bexar</td>\n",
              "      <td>Texas</td>\n",
              "      <td>48029.0</td>\n",
              "      <td>2</td>\n",
              "      <td>0</td>\n",
              "      <td>2020-02-16</td>\n",
              "      <td>\"Sunday 16 February 2020\"</td>\n",
              "    </tr>\n",
              "    <tr>\n",
              "      <th>...</th>\n",
              "      <td>...</td>\n",
              "      <td>...</td>\n",
              "      <td>...</td>\n",
              "      <td>...</td>\n",
              "      <td>...</td>\n",
              "      <td>...</td>\n",
              "      <td>...</td>\n",
              "      <td>...</td>\n",
              "    </tr>\n",
              "    <tr>\n",
              "      <th>106280</th>\n",
              "      <td>2020-05-01</td>\n",
              "      <td>Bexar</td>\n",
              "      <td>Texas</td>\n",
              "      <td>48029.0</td>\n",
              "      <td>1489</td>\n",
              "      <td>48</td>\n",
              "      <td>2020-05-01</td>\n",
              "      <td>\"Friday 01 May 2020\"</td>\n",
              "    </tr>\n",
              "    <tr>\n",
              "      <th>109148</th>\n",
              "      <td>2020-05-02</td>\n",
              "      <td>Bexar</td>\n",
              "      <td>Texas</td>\n",
              "      <td>48029.0</td>\n",
              "      <td>1585</td>\n",
              "      <td>48</td>\n",
              "      <td>2020-05-02</td>\n",
              "      <td>\"Saturday 02 May 2020\"</td>\n",
              "    </tr>\n",
              "    <tr>\n",
              "      <th>112023</th>\n",
              "      <td>2020-05-03</td>\n",
              "      <td>Bexar</td>\n",
              "      <td>Texas</td>\n",
              "      <td>48029.0</td>\n",
              "      <td>1625</td>\n",
              "      <td>48</td>\n",
              "      <td>2020-05-03</td>\n",
              "      <td>\"Sunday 03 May 2020\"</td>\n",
              "    </tr>\n",
              "    <tr>\n",
              "      <th>114907</th>\n",
              "      <td>2020-05-04</td>\n",
              "      <td>Bexar</td>\n",
              "      <td>Texas</td>\n",
              "      <td>48029.0</td>\n",
              "      <td>1664</td>\n",
              "      <td>48</td>\n",
              "      <td>2020-05-04</td>\n",
              "      <td>\"Monday 04 May 2020\"</td>\n",
              "    </tr>\n",
              "    <tr>\n",
              "      <th>117791</th>\n",
              "      <td>2020-05-05</td>\n",
              "      <td>Bexar</td>\n",
              "      <td>Texas</td>\n",
              "      <td>48029.0</td>\n",
              "      <td>1689</td>\n",
              "      <td>52</td>\n",
              "      <td>2020-05-05</td>\n",
              "      <td>\"Tuesday 05 May 2020\"</td>\n",
              "    </tr>\n",
              "  </tbody>\n",
              "</table>\n",
              "<p>84 rows × 8 columns</p>\n",
              "</div>"
            ],
            "text/plain": [
              "              date county  ... date_dtFormat                date_dtFormat2\n",
              "143     2020-02-12  Bexar  ...    2020-02-12  \"Wednesday 12 February 2020\"\n",
              "154     2020-02-13  Bexar  ...    2020-02-13   \"Thursday 13 February 2020\"\n",
              "165     2020-02-14  Bexar  ...    2020-02-14     \"Friday 14 February 2020\"\n",
              "176     2020-02-15  Bexar  ...    2020-02-15   \"Saturday 15 February 2020\"\n",
              "187     2020-02-16  Bexar  ...    2020-02-16     \"Sunday 16 February 2020\"\n",
              "...            ...    ...  ...           ...                           ...\n",
              "106280  2020-05-01  Bexar  ...    2020-05-01          \"Friday 01 May 2020\"\n",
              "109148  2020-05-02  Bexar  ...    2020-05-02        \"Saturday 02 May 2020\"\n",
              "112023  2020-05-03  Bexar  ...    2020-05-03          \"Sunday 03 May 2020\"\n",
              "114907  2020-05-04  Bexar  ...    2020-05-04          \"Monday 04 May 2020\"\n",
              "117791  2020-05-05  Bexar  ...    2020-05-05         \"Tuesday 05 May 2020\"\n",
              "\n",
              "[84 rows x 8 columns]"
            ]
          },
          "metadata": {
            "tags": []
          },
          "execution_count": 16
        }
      ]
    },
    {
      "cell_type": "code",
      "metadata": {
        "id": "meOdefjiRGgw",
        "colab_type": "code",
        "colab": {}
      },
      "source": [
        "####################\n",
        "# Create aggreate Week Month Counts (yay...)\n",
        "#####################\n",
        "\n",
        "# df.groupby(['Name', 'Fruit'])['Number'].agg('sum')\n",
        "# covidData.groupby(['data_week']).sum()\n",
        "#################################################\n",
        "# Below is aggregate the sum by dimensions \n",
        "#################################################\n",
        "# covidData_aggState = covidData.groupby(['state','data_week'])['deaths'].agg('sum').to_frame().reset_index()\n",
        "\n",
        "covidData_aggState = covidData.groupby(['state','county','data_week'], as_index=False)['deaths'].sum()"
      ],
      "execution_count": 0,
      "outputs": []
    },
    {
      "cell_type": "code",
      "metadata": {
        "id": "iE8SdhT2QYYo",
        "colab_type": "code",
        "outputId": "4e644d76-9862-43ce-fad8-08bdd6f6f490",
        "colab": {
          "base_uri": "https://localhost:8080/",
          "height": 438
        }
      },
      "source": [
        "# covidData_aggState.to_frame().reset_index()\n",
        "## covidData_aggState[covidData_aggState.state=='Texas']\n",
        "covidData_aggState[(covidData_aggState['state'] == \"Texas\") & (covidData_aggState['county'].isin(['Bexar']))]"
      ],
      "execution_count": 0,
      "outputs": [
        {
          "output_type": "execute_result",
          "data": {
            "text/html": [
              "<div>\n",
              "<style scoped>\n",
              "    .dataframe tbody tr th:only-of-type {\n",
              "        vertical-align: middle;\n",
              "    }\n",
              "\n",
              "    .dataframe tbody tr th {\n",
              "        vertical-align: top;\n",
              "    }\n",
              "\n",
              "    .dataframe thead th {\n",
              "        text-align: right;\n",
              "    }\n",
              "</style>\n",
              "<table border=\"1\" class=\"dataframe\">\n",
              "  <thead>\n",
              "    <tr style=\"text-align: right;\">\n",
              "      <th></th>\n",
              "      <th>state</th>\n",
              "      <th>county</th>\n",
              "      <th>data_week</th>\n",
              "      <th>deaths</th>\n",
              "    </tr>\n",
              "  </thead>\n",
              "  <tbody>\n",
              "    <tr>\n",
              "      <th>16559</th>\n",
              "      <td>Texas</td>\n",
              "      <td>Bexar</td>\n",
              "      <td>7</td>\n",
              "      <td>0</td>\n",
              "    </tr>\n",
              "    <tr>\n",
              "      <th>16560</th>\n",
              "      <td>Texas</td>\n",
              "      <td>Bexar</td>\n",
              "      <td>8</td>\n",
              "      <td>0</td>\n",
              "    </tr>\n",
              "    <tr>\n",
              "      <th>16561</th>\n",
              "      <td>Texas</td>\n",
              "      <td>Bexar</td>\n",
              "      <td>9</td>\n",
              "      <td>0</td>\n",
              "    </tr>\n",
              "    <tr>\n",
              "      <th>16562</th>\n",
              "      <td>Texas</td>\n",
              "      <td>Bexar</td>\n",
              "      <td>10</td>\n",
              "      <td>0</td>\n",
              "    </tr>\n",
              "    <tr>\n",
              "      <th>16563</th>\n",
              "      <td>Texas</td>\n",
              "      <td>Bexar</td>\n",
              "      <td>11</td>\n",
              "      <td>0</td>\n",
              "    </tr>\n",
              "    <tr>\n",
              "      <th>16564</th>\n",
              "      <td>Texas</td>\n",
              "      <td>Bexar</td>\n",
              "      <td>12</td>\n",
              "      <td>1</td>\n",
              "    </tr>\n",
              "    <tr>\n",
              "      <th>16565</th>\n",
              "      <td>Texas</td>\n",
              "      <td>Bexar</td>\n",
              "      <td>13</td>\n",
              "      <td>21</td>\n",
              "    </tr>\n",
              "    <tr>\n",
              "      <th>16566</th>\n",
              "      <td>Texas</td>\n",
              "      <td>Bexar</td>\n",
              "      <td>14</td>\n",
              "      <td>64</td>\n",
              "    </tr>\n",
              "    <tr>\n",
              "      <th>16567</th>\n",
              "      <td>Texas</td>\n",
              "      <td>Bexar</td>\n",
              "      <td>15</td>\n",
              "      <td>145</td>\n",
              "    </tr>\n",
              "    <tr>\n",
              "      <th>16568</th>\n",
              "      <td>Texas</td>\n",
              "      <td>Bexar</td>\n",
              "      <td>16</td>\n",
              "      <td>248</td>\n",
              "    </tr>\n",
              "    <tr>\n",
              "      <th>16569</th>\n",
              "      <td>Texas</td>\n",
              "      <td>Bexar</td>\n",
              "      <td>17</td>\n",
              "      <td>289</td>\n",
              "    </tr>\n",
              "    <tr>\n",
              "      <th>16570</th>\n",
              "      <td>Texas</td>\n",
              "      <td>Bexar</td>\n",
              "      <td>18</td>\n",
              "      <td>326</td>\n",
              "    </tr>\n",
              "    <tr>\n",
              "      <th>16571</th>\n",
              "      <td>Texas</td>\n",
              "      <td>Bexar</td>\n",
              "      <td>19</td>\n",
              "      <td>100</td>\n",
              "    </tr>\n",
              "  </tbody>\n",
              "</table>\n",
              "</div>"
            ],
            "text/plain": [
              "       state county  data_week  deaths\n",
              "16559  Texas  Bexar          7       0\n",
              "16560  Texas  Bexar          8       0\n",
              "16561  Texas  Bexar          9       0\n",
              "16562  Texas  Bexar         10       0\n",
              "16563  Texas  Bexar         11       0\n",
              "16564  Texas  Bexar         12       1\n",
              "16565  Texas  Bexar         13      21\n",
              "16566  Texas  Bexar         14      64\n",
              "16567  Texas  Bexar         15     145\n",
              "16568  Texas  Bexar         16     248\n",
              "16569  Texas  Bexar         17     289\n",
              "16570  Texas  Bexar         18     326\n",
              "16571  Texas  Bexar         19     100"
            ]
          },
          "metadata": {
            "tags": []
          },
          "execution_count": 87
        }
      ]
    },
    {
      "cell_type": "code",
      "metadata": {
        "id": "r0O2mkzYmTNU",
        "colab_type": "code",
        "outputId": "e2ab8108-ad33-4ac0-ceb9-56c8b17a6673",
        "colab": {
          "base_uri": "https://localhost:8080/",
          "height": 272
        }
      },
      "source": [
        "#################################################\n",
        "# Difference data to get weekly volume \n",
        "#################################################\n",
        "\n",
        "# covidData_aggState[(covidData_aggState['state'] == \"Texas\") & (covidData_aggState['county'].isin(['Bexar']))]['deaths'].diff(periods=1)\n",
        "covidData_aggState[(covidData_aggState['state'] == \"Texas\") & (covidData_aggState['county'].isin(['Bexar']))]['deaths']"
      ],
      "execution_count": 0,
      "outputs": [
        {
          "output_type": "execute_result",
          "data": {
            "text/plain": [
              "16559      0\n",
              "16560      0\n",
              "16561      0\n",
              "16562      0\n",
              "16563      0\n",
              "16564      1\n",
              "16565     21\n",
              "16566     64\n",
              "16567    145\n",
              "16568    248\n",
              "16569    289\n",
              "16570    326\n",
              "16571    100\n",
              "Name: deaths, dtype: int64"
            ]
          },
          "metadata": {
            "tags": []
          },
          "execution_count": 92
        }
      ]
    },
    {
      "cell_type": "code",
      "metadata": {
        "id": "jBbingEz8QGM",
        "colab_type": "code",
        "colab": {}
      },
      "source": [
        "#####################\n",
        "# Create Model with metrics?\n",
        "#####################"
      ],
      "execution_count": 0,
      "outputs": []
    },
    {
      "cell_type": "code",
      "metadata": {
        "id": "2P6Q6vSK8VCb",
        "colab_type": "code",
        "colab": {}
      },
      "source": [
        "#####################\n",
        "# Trend Diagnostics\n",
        "#####################"
      ],
      "execution_count": 0,
      "outputs": []
    }
  ]
}